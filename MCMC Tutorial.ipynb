{
 "cells": [
  {
   "cell_type": "code",
   "execution_count": 1,
   "metadata": {
    "ExecuteTime": {
     "end_time": "2018-04-12T21:08:10.820002Z",
     "start_time": "2018-04-12T21:08:10.097870Z"
    }
   },
   "outputs": [],
   "source": [
    "import numpy as np\n",
    "import matplotlib.pyplot as plt\n",
    "import math\n",
    "import pandas as pd\n",
    "import scipy\n",
    "import scipy.stats as stats\n",
    "from scipy.optimize import minimize\n",
    "import threading\n",
    "import random\n",
    "import time\n",
    "import multiprocessing as mp"
   ]
  },
  {
   "cell_type": "code",
   "execution_count": null,
   "metadata": {},
   "outputs": [],
   "source": [
    "FOGGY = np.array([0.5, 0.25, 0.25])\n",
    "SUNNY = np.array([0.5, 0, 0.5])\n",
    "RAINY = np.array([0.25, 0.25, 0.5])\n",
    "\n",
    "parameter = [\"Foggy\", \"Sunny\", \"Rainy\"]\n",
    "\n",
    "p = np.array([FOGGY, SUNNY, RAINY])\n",
    "print(p)\n",
    "\n",
    "Prediction_Days = 25"
   ]
  },
  {
   "cell_type": "code",
   "execution_count": null,
   "metadata": {},
   "outputs": [],
   "source": [
    "CurrentStateProb = [[0,0,0]]*Prediction_Days\n",
    "CurrentStateProb[0] = [1,0,0]\n",
    "#print(CurrentStateProb[1])\n",
    "\n",
    "for i in range(1,Prediction_Days):\n",
    "    Prob = np.matmul(CurrentStateProb[i-1], p)\n",
    "    CurrentStateProb[i] = list(Prob)\n",
    "\n",
    "#print(CurrentStateProb[24])\n",
    "\n",
    "Foggy,Sunny,Rainy = [],[],[]\n",
    "for i in range(0,Prediction_Days):\n",
    "    Foggy.append(CurrentStateProb[i][0])\n",
    "    Sunny.append(CurrentStateProb[i][1])\n",
    "    Rainy.append(CurrentStateProb[i][2])\n",
    "\n",
    "plt.plot(Foggy,'g')\n",
    "plt.plot(Sunny,'r')\n",
    "plt.plot(Rainy,'b')\n",
    "plt.show()"
   ]
  },
  {
   "cell_type": "code",
   "execution_count": null,
   "metadata": {},
   "outputs": [],
   "source": [
    "alpha_true = -2\n",
    "beta_true = -5\n",
    "time = list(range(1,11))\n",
    "\n",
    "y_true = [alpha_true*time[i] + beta_true for i in range(0,10)]\n",
    "sigma = 1\n",
    "meas_err = np.random.normal(loc = 0, scale = sigma, size = len(time))\n",
    "y = y_true + meas_err"
   ]
  },
  {
   "cell_type": "code",
   "execution_count": null,
   "metadata": {},
   "outputs": [],
   "source": [
    "plt.plot(y,label='Error')\n",
    "plt.plot(y_true,label='True')\n",
    "#plt.plot(y_true,label='True')\n",
    "plt.legend()\n",
    "plt.show()"
   ]
  },
  {
   "cell_type": "code",
   "execution_count": null,
   "metadata": {},
   "outputs": [],
   "source": [
    "def logp(theta,time,y,sigma=1):\n",
    "    N = len(time)\n",
    "    alpha,beta = theta[0],theta[1]\n",
    "    model = [alpha*time[i] + beta for i in range(0,10)]\n",
    "    resid = y - model\n",
    "    #print(resid)\n",
    "    log_likelihood = -N/2 * math.log(2*math.pi) - N*math.log(sigma) - 1/2*sum(resid**2)/sigma**2\n",
    "    log_prior = 0 # log(1)\n",
    "    log_posterior = log_likelihood + log_prior\n",
    "    return log_posterior"
   ]
  },
  {
   "cell_type": "code",
   "execution_count": null,
   "metadata": {},
   "outputs": [],
   "source": [
    "N = 30000\n",
    "alpha_init = np.random.randint(-50,50)\n",
    "beta_init = np.random.randint(-50,50)\n",
    "theta = [alpha_init,beta_init]"
   ]
  },
  {
   "cell_type": "code",
   "execution_count": null,
   "metadata": {},
   "outputs": [],
   "source": [
    "print(theta)\n",
    "np.cov(theta,theta,theta)"
   ]
  },
  {
   "cell_type": "code",
   "execution_count": null,
   "metadata": {},
   "outputs": [],
   "source": [
    "lp = logp(theta,time,y)"
   ]
  },
  {
   "cell_type": "code",
   "execution_count": null,
   "metadata": {},
   "outputs": [],
   "source": [
    "def next_cov(t,xt,Ct,xtm,xtpm,xtp=0):\n",
    "    d = 2\n",
    "    sd = (2.4**2)/d\n",
    "    e = 0.05\n",
    "    Id = np.array([[1,0],[0,1]])\n",
    "    p1 = (t-1)/t*Ct\n",
    "    p2 = sd/t-(t*np.matmul(np.transpose(xtpm),xtpm)-(t+1)*np.matmul(np.transpose(xtm),xtm)+np.matmul(np.transpose(xt),xt)+e*Id)\n",
    "    return p1+p2"
   ]
  },
  {
   "cell_type": "code",
   "execution_count": null,
   "metadata": {},
   "outputs": [],
   "source": [
    "theta_best = theta\n",
    "lp_max = lp\n",
    "theta_new = [0]*2\n",
    "accepts = 0\n",
    "mcmc_chains = [[0,0]]*N\n",
    "step = [.1,1]\n",
    "time = list(range(1,11))\n",
    "# Defining variables for Adaptive metropolis Hastings -\n",
    "\n",
    "\n",
    "t = 0\n",
    "xt = np.array(theta)\n",
    "xtm = np.array(theta)\n",
    "xtpm = np.array(theta)\n",
    "cov = []\n",
    "for i in range(N):   \n",
    "    t += 1\n",
    "    if (t == 1):\n",
    "        cov = np.cov(theta,theta_new)\n",
    "    step = np.array(cov[0,0],cov[1,1])\n",
    "    #print(step)\n",
    "    theta_new = list(stats.multivariate_normal.rvs(theta,cov))\n",
    "    \n",
    "    lp_new = logp(theta_new,time,y)\n",
    "    lq = lp_new - lp\n",
    "    lr = math.log(np.random.uniform(0,1))\n",
    "    if (lr < lq):\n",
    "        theta = theta_new\n",
    "        lp = lp_new\n",
    "        accepts += 1\n",
    "        if lp > lp_max:\n",
    "            theta_best = theta\n",
    "            lp_max = lp\n",
    "    mcmc_chains[i] = theta\n",
    "    if (t > 1):\n",
    "        xtpm = xtm\n",
    "        xtm = xtpm + ((theta-xtpm)/t)\n",
    "        cov = next_cov(t,xt,cov,xtm,xtpm)\n",
    "        #print(cov)\n",
    "    else:\n",
    "        xtm = (xtpm+theta)/2 \n",
    "    \n",
    "print()"
   ]
  },
  {
   "cell_type": "code",
   "execution_count": null,
   "metadata": {},
   "outputs": [],
   "source": [
    "print(cov)"
   ]
  },
  {
   "cell_type": "code",
   "execution_count": null,
   "metadata": {},
   "outputs": [],
   "source": [
    "#print (mcmc_chains)\n",
    "print(accepts/N*100)"
   ]
  },
  {
   "cell_type": "code",
   "execution_count": null,
   "metadata": {},
   "outputs": [],
   "source": [
    "plt.figure(figsize=(16,4))\n",
    "plt.plot(mcmc_chains,linewidth=0.25)\n",
    "plt.show()"
   ]
  },
  {
   "cell_type": "code",
   "execution_count": null,
   "metadata": {},
   "outputs": [],
   "source": [
    "alpha = [mcmc_chains[i][0] for i in range(len(mcmc_chains))]\n",
    "beta = [mcmc_chains[i][1] for i in range(len(mcmc_chains))]"
   ]
  },
  {
   "cell_type": "code",
   "execution_count": null,
   "metadata": {},
   "outputs": [],
   "source": [
    "def correlation(X, Y):\n",
    "    pass\n",
    "\n",
    "def plot_graph_beta(lagrange):\n",
    "    cor,r,flag = [],None,True\n",
    "    for lag in range(1,lagrange):\n",
    "        X,Y = [],[]\n",
    "        X = beta[:len(beta)-lag]\n",
    "        Y = beta[lag:]\n",
    "        #x = np.random.choice(X,size,replace=True)\n",
    "        #y = x+np.random.choice(Y,size,replace=True)\n",
    "        cor.append(np.corrcoef(X,Y,rowvar=False)[0][1])\n",
    "        if flag and cor[lag-1] <= 0.05:\n",
    "            flag = False\n",
    "            r = lag\n",
    "    plt.plot(range(1,lagrange),cor)\n",
    "    plt.plot([r,r],[-0.2,1])\n",
    "    title = 'Lag '+str(lag)\n",
    "    plt.title(title)\n",
    "    plt.xlabel('Lag')\n",
    "    plt.ylabel('correlation')\n",
    "    plt.show()\n",
    "    return r\n",
    "\n",
    "def plot_graph_alpha(lagrange):\n",
    "    cor,r,flag = [],None,True\n",
    "    for lag in range(1,lagrange):\n",
    "        X,Y = [],[]\n",
    "        X = alpha[:len(alpha)-lag]\n",
    "        Y = alpha[lag:]\n",
    "        #x = np.random.choice(X,size,replace=True)\n",
    "        #y = x+np.random.choice(Y,size,replace=True)\n",
    "        cor.append(np.corrcoef(X,Y,rowvar=False)[0][1])\n",
    "        if flag and cor[lag-1] <= 0.05:\n",
    "            flag = False\n",
    "            r = lag\n",
    "    plt.plot(range(1,lagrange),cor)\n",
    "    plt.plot([r,r],[-0.2,1])\n",
    "    title = 'Lag '+str(lag)\n",
    "    plt.title(title)\n",
    "    plt.xlabel('Lag')\n",
    "    plt.ylabel('correlation')\n",
    "    plt.show()\n",
    "    return r"
   ]
  },
  {
   "cell_type": "code",
   "execution_count": null,
   "metadata": {},
   "outputs": [],
   "source": [
    "lag1 = plot_graph_beta(1500)\n",
    "lag2= plot_graph_alpha(1500)"
   ]
  },
  {
   "cell_type": "code",
   "execution_count": null,
   "metadata": {},
   "outputs": [],
   "source": [
    "print(lag1)\n",
    "print(lag2)\n",
    "alpha1,beta1 = [],[]\n",
    "for i in range(0,len(mcmc_chains),40):\n",
    "    alpha1.append(mcmc_chains[i][0])\n",
    "    beta1.append(mcmc_chains[i][1])\n",
    "print('Alpha estimate',np.mean(alpha1))\n",
    "print('Beta estimate',np.mean(beta1))"
   ]
  },
  {
   "cell_type": "code",
   "execution_count": null,
   "metadata": {},
   "outputs": [],
   "source": [
    "data = pd.read_csv('observations.txt',sep=\"\\t\")\n",
    "t = data['time']\n",
    "observations = data['observations']\n",
    "\n",
    "plt.plot(t,observations,'b.')\n",
    "plt.xlabel('Time')\n",
    "plt.ylabel('Observations')\n",
    "plt.show()"
   ]
  },
  {
   "cell_type": "code",
   "execution_count": null,
   "metadata": {},
   "outputs": [],
   "source": [
    "def model(parm,t):\n",
    "    model_p = len(parm)\n",
    "    alpha = parm[0]\n",
    "    beta = parm[1]\n",
    "    y_mod = alpha*t + beta\n",
    "    return [list(y_mod),model_p]\n",
    "\n",
    "def fn(parameters, t, obs):\n",
    "    alpha = parameters[0]\n",
    "    beta = parameters[1]\n",
    "    data = alpha*t + beta\n",
    "    resid = obs - data\n",
    "    rmse = math.sqrt(np.mean(resid**2))\n",
    "    return rmse\n",
    "\n",
    "paramater_guess = [0.5,2]\n",
    "result = minimize(fn, paramater_guess, args=(t,observations), method='nelder-mead', options={'xtol': 1e-8, 'disp': True})\n",
    "start_alpha = result.x[0]\n",
    "start_beta = result.x[1]\n",
    "parameter = [start_alpha,start_beta]\n",
    "y_obs = model(parameter,t)\n",
    "res = observations - y_obs[0]\n",
    "start_sigma = np.std(res)"
   ]
  },
  {
   "cell_type": "code",
   "execution_count": null,
   "metadata": {},
   "outputs": [],
   "source": [
    "plt.plot(res)\n",
    "plt.xlabel('Time')\n",
    "plt.ylabel('Residuals')\n",
    "plt.show()"
   ]
  },
  {
   "cell_type": "code",
   "execution_count": null,
   "metadata": {},
   "outputs": [],
   "source": [
    "bound_lower = [-1,-1,0]\n",
    "bound_upper = [1,3,1]\n",
    "parnames = ['alpha','beta','sigma']\n",
    "model_p = 2"
   ]
  },
  {
   "cell_type": "code",
   "execution_count": null,
   "metadata": {},
   "outputs": [],
   "source": [
    "step = [0.001, 0.01, 0.01]\n",
    "NI = 1e3"
   ]
  },
  {
   "cell_type": "code",
   "execution_count": null,
   "metadata": {},
   "outputs": [],
   "source": [
    "st = [[1/2,1/6,1/6,1/6,0,0],[1/2,1/6,1/6,1/6,0,0],[1/2,1/6,1/6,1/6,0,0],[0,0,1/6,1/6,1/2,1/6],[0,0,1/6,1/6,1/2,1/6],[0,0,1/6,1/6,1/2,1/6]]\n",
    "st = np.array(st)\n",
    "st = np.transpose(st)\n",
    "\n",
    "print(st)\n",
    "multi = np.array([1,0,0,0,0,0])\n",
    "for i in range(100):\n",
    "    multi = np.dot(st,multi)\n",
    "print(multi)\n",
    "print(sum(multi[1:4])/sum(multi[:4]))\n",
    "print(0.25/(0.25+0.08333333))\n",
    "print()\n",
    "d,v = np.linalg.eig(st)\n",
    "print(d)\n",
    "print(v[:,0]/sum(v[:,0]))"
   ]
  },
  {
   "cell_type": "code",
   "execution_count": null,
   "metadata": {},
   "outputs": [],
   "source": [
    "def cm(n):\n",
    "    total = 0\n",
    "    for i in range(n):\n",
    "        total += 2**i / (5**(2+i))\n",
    "    return total"
   ]
  },
  {
   "cell_type": "code",
   "execution_count": null,
   "metadata": {},
   "outputs": [],
   "source": [
    "#calculating expected value -\n",
    "ex = 0\n",
    "for i in range(1,5):\n",
    "    print(i*cm(i))\n",
    "    ex += i*cm(i)"
   ]
  },
  {
   "cell_type": "code",
   "execution_count": null,
   "metadata": {},
   "outputs": [],
   "source": [
    "print(ex)"
   ]
  },
  {
   "cell_type": "code",
   "execution_count": null,
   "metadata": {},
   "outputs": [],
   "source": [
    "def countWays(arr, N):\n",
    "    count = [0]*(N+1)\n",
    "    count[0] = 1\n",
    "    for i in range(N+1):\n",
    "        for j in range(len(arr)):\n",
    "            if i >= arr[j]:\n",
    "                count[i] += count[i - arr[j]]\n",
    "    return count[N]"
   ]
  },
  {
   "cell_type": "code",
   "execution_count": null,
   "metadata": {},
   "outputs": [],
   "source": [
    "countWays(range(1,6),5)"
   ]
  },
  {
   "cell_type": "code",
   "execution_count": null,
   "metadata": {},
   "outputs": [],
   "source": [
    "def loop():\n",
    "    arr = np.array(range(1,6))\n",
    "    sum1,sum2 = 0,0\n",
    "    sum1 += np.random.choice(arr)\n",
    "    sum2 += np.random.choice(arr)\n",
    "    while (sum1 != sum2):\n",
    "        if sum1 < sum2:\n",
    "            sum1 += np.random.choice(arr)\n",
    "        else:\n",
    "            sum2 += np.random.choice(arr)\n",
    "    return sum1"
   ]
  },
  {
   "cell_type": "code",
   "execution_count": null,
   "metadata": {},
   "outputs": [],
   "source": [
    "temp = []\n",
    "for i in range(1000000):\n",
    "    temp.append(loop())\n",
    "print(sum(temp)/len(temp))"
   ]
  },
  {
   "cell_type": "code",
   "execution_count": null,
   "metadata": {},
   "outputs": [],
   "source": [
    "st = np.array([[1,0,0,0,0,0,0],[1/5,1/5,1/5,1/5,1/5,0,0],[1/5,2/5,1/5,1/5,0,0,0],[1/5,2/5,2/5,0,0,0,0],[1/5,2/5,1/5,1/5,0,0,0],[1/5,1/5,1/5,1/5,1/5,0,0],[0,1/5,1/5,1/5,1/5,1/5,0]])\n",
    "st = st[1:,1:]\n",
    "N = np.linalg.inv(np.eye(6) - st)\n",
    "print(np.matmul(N,np.ones(6)))"
   ]
  },
  {
   "cell_type": "code",
   "execution_count": null,
   "metadata": {},
   "outputs": [],
   "source": [
    "size = 30\n",
    "st = []\n",
    "for i in range(0,size+1):\n",
    "    temp = np.zeros(size+1)\n",
    "    if i == 0:\n",
    "        temp[size-1],temp[1] = 1/2,1/2\n",
    "    elif i == size-1:\n",
    "        temp[i-1],temp[0] = 1/2,1/2\n",
    "    elif i == size:\n",
    "        temp[0],temp[size-1] = 1/2,1/2\n",
    "    else:\n",
    "        temp[i+1],temp[i-1] = 1/2,1/2\n",
    "    st.append(temp)\n",
    "\n",
    "print(len(st[0]))"
   ]
  },
  {
   "cell_type": "code",
   "execution_count": null,
   "metadata": {},
   "outputs": [],
   "source": [
    "st = np.array(st)\n",
    "st = np.transpose(st)\n",
    "\n",
    "#print(st)\n",
    "multi = np.zeros(size+1)\n",
    "multi[0] = 1\n",
    "for i in range(100000):\n",
    "    multi = np.dot(st,multi)\n",
    "print(multi)\n",
    "print()\n",
    "d,v = np.linalg.eig(st)\n",
    "print(d)\n",
    "\n",
    "print(v[:,4]/sum(v[:,4]))"
   ]
  },
  {
   "cell_type": "markdown",
   "metadata": {},
   "source": [
    "# Multi-threading"
   ]
  },
  {
   "cell_type": "code",
   "execution_count": 2,
   "metadata": {
    "ExecuteTime": {
     "end_time": "2018-04-12T21:08:19.390526Z",
     "start_time": "2018-04-12T21:08:19.298251Z"
    }
   },
   "outputs": [],
   "source": [
    "output1 = mp.SimpleQueue()\n",
    "def rand_string(length,output):\n",
    "    output.put(1)\n",
    "def main():\n",
    "    p = mp.Process(target=rand_string, args=(5,output1))\n",
    "    # Run processes\n",
    "    temp = p.start()\n",
    "    # Exit the completed processes\n",
    "    print(p)\n",
    "    p.join()\n",
    "    print(p)\n",
    "    # Get process results from the output queue"
   ]
  },
  {
   "cell_type": "code",
   "execution_count": 3,
   "metadata": {
    "ExecuteTime": {
     "end_time": "2018-04-12T21:08:23.835919Z",
     "start_time": "2018-04-12T21:08:23.664300Z"
    }
   },
   "outputs": [
    {
     "name": "stdout",
     "output_type": "stream",
     "text": [
      "<Process(Process-1, started)>\n",
      "<Process(Process-1, stopped[1])>\n"
     ]
    }
   ],
   "source": [
    "if __name__ == '__main__':\n",
    "    mp.freeze_support()\n",
    "    main()"
   ]
  },
  {
   "cell_type": "code",
   "execution_count": 4,
   "metadata": {
    "ExecuteTime": {
     "end_time": "2018-04-12T21:08:24.229834Z",
     "start_time": "2018-04-12T21:08:24.225824Z"
    }
   },
   "outputs": [
    {
     "name": "stdout",
     "output_type": "stream",
     "text": [
      "False\n"
     ]
    }
   ],
   "source": [
    "output1.put(5)\n",
    "print(output1.empty())"
   ]
  },
  {
   "cell_type": "code",
   "execution_count": null,
   "metadata": {},
   "outputs": [],
   "source": []
  }
 ],
 "metadata": {
  "kernelspec": {
   "display_name": "Python 3",
   "language": "python",
   "name": "python3"
  },
  "language_info": {
   "codemirror_mode": {
    "name": "ipython",
    "version": 3
   },
   "file_extension": ".py",
   "mimetype": "text/x-python",
   "name": "python",
   "nbconvert_exporter": "python",
   "pygments_lexer": "ipython3",
   "version": "3.6.4"
  }
 },
 "nbformat": 4,
 "nbformat_minor": 2
}
